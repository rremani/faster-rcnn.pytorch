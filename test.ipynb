{
 "cells": [
  {
   "cell_type": "code",
   "execution_count": 2,
   "metadata": {},
   "outputs": [],
   "source": [
    "import os\n",
    "import pandas as pd\n",
    "import numpy as np\n",
    "import cv2\n",
    "import matplotlib.pyplot as plt\n",
    "from sklearn.model_selection import train_test_split\n",
    "%matplotlib inline"
   ]
  },
  {
   "cell_type": "code",
   "execution_count": 3,
   "metadata": {},
   "outputs": [
    {
     "data": {
      "text/html": [
       "<div>\n",
       "<style scoped>\n",
       "    .dataframe tbody tr th:only-of-type {\n",
       "        vertical-align: middle;\n",
       "    }\n",
       "\n",
       "    .dataframe tbody tr th {\n",
       "        vertical-align: top;\n",
       "    }\n",
       "\n",
       "    .dataframe thead th {\n",
       "        text-align: right;\n",
       "    }\n",
       "</style>\n",
       "<table border=\"1\" class=\"dataframe\">\n",
       "  <thead>\n",
       "    <tr style=\"text-align: right;\">\n",
       "      <th></th>\n",
       "      <th>name</th>\n",
       "      <th>xmin</th>\n",
       "      <th>ymin</th>\n",
       "      <th>w</th>\n",
       "      <th>h</th>\n",
       "      <th>label</th>\n",
       "    </tr>\n",
       "  </thead>\n",
       "  <tbody>\n",
       "    <tr>\n",
       "      <th>0</th>\n",
       "      <td>AHMI-2.png</td>\n",
       "      <td>4</td>\n",
       "      <td>803</td>\n",
       "      <td>1231</td>\n",
       "      <td>337</td>\n",
       "      <td>1</td>\n",
       "    </tr>\n",
       "    <tr>\n",
       "      <th>1</th>\n",
       "      <td>AHMI-2-2.png</td>\n",
       "      <td>38</td>\n",
       "      <td>680</td>\n",
       "      <td>1152</td>\n",
       "      <td>220</td>\n",
       "      <td>1</td>\n",
       "    </tr>\n",
       "    <tr>\n",
       "      <th>2</th>\n",
       "      <td>AHMI-2-2.png</td>\n",
       "      <td>32</td>\n",
       "      <td>1258</td>\n",
       "      <td>1156</td>\n",
       "      <td>202</td>\n",
       "      <td>1</td>\n",
       "    </tr>\n",
       "    <tr>\n",
       "      <th>3</th>\n",
       "      <td>AHMI-3.png</td>\n",
       "      <td>33</td>\n",
       "      <td>321</td>\n",
       "      <td>1139</td>\n",
       "      <td>405</td>\n",
       "      <td>1</td>\n",
       "    </tr>\n",
       "    <tr>\n",
       "      <th>4</th>\n",
       "      <td>AHMI-3-2.png</td>\n",
       "      <td>37</td>\n",
       "      <td>629</td>\n",
       "      <td>1152</td>\n",
       "      <td>192</td>\n",
       "      <td>1</td>\n",
       "    </tr>\n",
       "  </tbody>\n",
       "</table>\n",
       "</div>"
      ],
      "text/plain": [
       "           name  xmin  ymin     w    h  label\n",
       "0    AHMI-2.png     4   803  1231  337      1\n",
       "1  AHMI-2-2.png    38   680  1152  220      1\n",
       "2  AHMI-2-2.png    32  1258  1156  202      1\n",
       "3    AHMI-3.png    33   321  1139  405      1\n",
       "4  AHMI-3-2.png    37   629  1152  192      1"
      ]
     },
     "execution_count": 3,
     "metadata": {},
     "output_type": "execute_result"
    }
   ],
   "source": [
    "# Loading the annotations\n",
    "\n",
    "df_anno = pd.read_csv('data/TABLES/data/MISC/truecover_tables.csv')\n",
    "# Renaming the columns as the original labels aren't correct\n",
    "df_anno.columns = ['name','xmin','ymin','w','h','label']\n",
    "df_anno.head()"
   ]
  },
  {
   "cell_type": "code",
   "execution_count": 4,
   "metadata": {},
   "outputs": [],
   "source": [
    "df_anno['xmin']=df_anno['xmin'].apply(lambda x:x-5)\n",
    "df_anno['ymin']=df_anno['ymin'].apply(lambda x:x-5)\n",
    "df_anno['w']=df_anno['w'].apply(lambda x:x+5)\n",
    "df_anno['h']=df_anno['h'].apply(lambda x:x+5)"
   ]
  },
  {
   "cell_type": "code",
   "execution_count": 7,
   "metadata": {},
   "outputs": [],
   "source": [
    "# creating data for test\n",
    "# Define training Labels; here 1 being table class is defined\n",
    "\n",
    "training_labels = [1]\n",
    "PATH_OF_FOLDER='data/TABLES/data'"
   ]
  },
  {
   "cell_type": "code",
   "execution_count": 10,
   "metadata": {},
   "outputs": [],
   "source": [
    "def create_annotations(PATH_OF_FOLDER,df_anno,training_labels,type_of_anno='train'):\n",
    "    f=open(PATH_OF_FOLDER+'/'+type_of_anno+'_anno.txt','w') \n",
    "\n",
    "\n",
    "    for i in df_anno.iterrows():\n",
    "\n",
    "        name   = i[1]['name'].split('.')[0]\n",
    "        xmin   = i[1]['xmin']\n",
    "        ymin   = i[1]['ymin']\n",
    "        width  = i[1]['w']\n",
    "        height = i[1]['h']\n",
    "        xmax   = xmin + width\n",
    "        ymax   = ymin + height\n",
    "        label = i[1]['label']\n",
    "\n",
    "        # All annotations for these files are going to be stored there\n",
    "        path=os.path.join(PATH_OF_FOLDER,'Annotations', name + '.txt')\n",
    "    #     print(path)\n",
    "        if label in training_labels:\n",
    "            data=str(xmin)+';'+str(ymin)+';'+str(xmax)+';'+str(ymax)+';'+str(label)+'\\n'\n",
    "\n",
    "            with open(path,'a') as f1:\n",
    "                f1.write(data)  #write the annotation in the Annotation folder file\n",
    "                f.write(name+';'+data) #write the annotation in the complete list of training files\n",
    "                f1.close()\n",
    "        else:\n",
    "            print (label)\n",
    "    f.close()\n",
    "\n",
    "def create_imagesets(PATH_OF_FOLDER,df_train,type_of_anno='train'):\n",
    "    train_list=open(os.path.join(PATH_OF_FOLDER,'ImageSets/'+type_of_anno+'.txt'),'a')\n",
    "    train_files=np.unique(df_train['name'])\n",
    "\n",
    "    for t in train_files:\n",
    "         train_list.write(t.split('.')[0]+'\\n') #creates the list of files used for final training updated in ImageSets/train\n",
    "\n",
    "    train_list.close()"
   ]
  },
  {
   "cell_type": "code",
   "execution_count": 9,
   "metadata": {},
   "outputs": [],
   "source": [
    "create_annotations(PATH_OF_FOLDER,df_anno,training_labels,type_of_anno='client_test')"
   ]
  },
  {
   "cell_type": "code",
   "execution_count": 11,
   "metadata": {},
   "outputs": [],
   "source": [
    "create_imagesets(PATH_OF_FOLDER,df_anno,type_of_anno='test')"
   ]
  },
  {
   "cell_type": "markdown",
   "metadata": {},
   "source": [
    "# MISC"
   ]
  },
  {
   "cell_type": "code",
   "execution_count": 12,
   "metadata": {},
   "outputs": [],
   "source": [
    "# Converting the path"
   ]
  },
  {
   "cell_type": "code",
   "execution_count": 13,
   "metadata": {},
   "outputs": [],
   "source": [
    "images = os.listdir('data/TABLES/data/MISC/table_img/')"
   ]
  },
  {
   "cell_type": "code",
   "execution_count": 20,
   "metadata": {},
   "outputs": [
    {
     "name": "stdout",
     "output_type": "stream",
     "text": [
      "data/TABLES/data/Images/AHMIP-02.jpg\n",
      "data/TABLES/data/Images/AHMI-4-2.jpg\n",
      "data/TABLES/data/Images/BJAM-1.jpg\n",
      "data/TABLES/data/Images/AHMI-6-2.jpg\n",
      "data/TABLES/data/Images/AHMI-8-3.jpg\n",
      "data/TABLES/data/Images/TATAAIG-TRAVEL-1.jpg\n",
      "data/TABLES/data/Images/AHMI-7-2.jpg\n",
      "data/TABLES/data/Images/RLH-2.jpg\n",
      "data/TABLES/data/Images/AHMI-3-2.jpg\n",
      "data/TABLES/data/Images/MAXBHUPAI-04.jpg\n",
      "data/TABLES/data/Images/AHMI-6-3.jpg\n",
      "data/TABLES/data/Images/HDFCERTR-1.jpg\n",
      "data/TABLES/data/Images/HDFCHI-1.jpg\n",
      "data/TABLES/data/Images/MAXBHUPAFP-04.jpg\n",
      "data/TABLES/data/Images/AHMI-3.jpg\n",
      "data/TABLES/data/Images/BJANi-1.jpg\n",
      "data/TABLES/data/Images/AHMI-5-2.jpg\n",
      "data/TABLES/data/Images/1534593902.7007136.jpg\n",
      "data/TABLES/data/Images/HDFCERH-1.jpg\n",
      "data/TABLES/data/Images/AHMI-2.jpg\n",
      "data/TABLES/data/Images/AHMI-2-2.jpg\n",
      "data/TABLES/data/Images/BJAN-1.jpg\n",
      "data/TABLES/data/Images/AHMI-5-3.jpg\n",
      "data/TABLES/data/Images/TATAAIGSB-1.jpg\n"
     ]
    }
   ],
   "source": [
    "for i in images:\n",
    "    print('data/TABLES/data/Images/'+'.'.join(i.split('.')[:-1])+'.jpg')\n",
    "    img = cv2.imread('data/TABLES/data/MISC/table_img/'+i)\n",
    "    cv2.imwrite('data/TABLES/data/Images/'+'.'.join(i.split('.')[:-1])+'.jpg',img)"
   ]
  },
  {
   "cell_type": "code",
   "execution_count": null,
   "metadata": {},
   "outputs": [],
   "source": []
  }
 ],
 "metadata": {
  "kernelspec": {
   "display_name": "Python 3",
   "language": "python",
   "name": "python3"
  },
  "language_info": {
   "codemirror_mode": {
    "name": "ipython",
    "version": 3
   },
   "file_extension": ".py",
   "mimetype": "text/x-python",
   "name": "python",
   "nbconvert_exporter": "python",
   "pygments_lexer": "ipython3",
   "version": "3.5.2"
  }
 },
 "nbformat": 4,
 "nbformat_minor": 2
}
